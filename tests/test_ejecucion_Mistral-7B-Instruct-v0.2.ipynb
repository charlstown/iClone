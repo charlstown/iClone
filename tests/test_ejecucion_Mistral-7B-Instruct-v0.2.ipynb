{
 "cells": [
  {
   "cell_type": "markdown",
   "id": "ae94a039",
   "metadata": {},
   "source": [
    "**Levanta el modelo Mistral 7B**"
   ]
  },
  {
   "cell_type": "code",
   "execution_count": 1,
   "id": "d487fac3",
   "metadata": {},
   "outputs": [],
   "source": [
    "from transformers import AutoModelForCausalLM, AutoTokenizer, BitsAndBytesConfig\n",
    "import torch\n",
    "\n",
    "# Configuración de cuantización 4-bit\n",
    "quantization_config = BitsAndBytesConfig(\n",
    "    load_in_4bit=True,\n",
    "    bnb_4bit_compute_dtype=torch.float16,\n",
    "    bnb_4bit_quant_type=\"nf4\",\n",
    "    bnb_4bit_use_double_quant=True\n",
    ")\n",
    "\n"
   ]
  },
  {
   "cell_type": "code",
   "execution_count": 2,
   "id": "94095c36",
   "metadata": {},
   "outputs": [
    {
     "data": {
      "application/vnd.jupyter.widget-view+json": {
       "model_id": "42ad2f7e44274bbcb3bb009f21db2f29",
       "version_major": 2,
       "version_minor": 0
      },
      "text/plain": [
       "Loading checkpoint shards:   0%|          | 0/3 [00:00<?, ?it/s]"
      ]
     },
     "metadata": {},
     "output_type": "display_data"
    }
   ],
   "source": [
    "# Cargar modelo y tokenizador\n",
    "model_path = \"/home/schao/iClone/models/mistral_7b_instruct\"\n",
    "tokenizer = AutoTokenizer.from_pretrained(model_path)\n",
    "model = AutoModelForCausalLM.from_pretrained(\n",
    "    model_path,\n",
    "    quantization_config=quantization_config,\n",
    "    device_map=\"cpu\",  # Forzar CPU\n",
    "    max_memory={\"cpu\": \"17GB\"},\n",
    "    low_cpu_mem_usage=True,\n",
    "    torch_dtype=torch.bfloat16,\n",
    "    local_files_only=True,\n",
    "    trust_remote_code=True\n",
    ")\n",
    "\n"
   ]
  },
  {
   "cell_type": "code",
   "execution_count": 4,
   "id": "537de86b",
   "metadata": {},
   "outputs": [
    {
     "name": "stderr",
     "output_type": "stream",
     "text": [
      "Setting `pad_token_id` to `eos_token_id`:2 for open-end generation.\n"
     ]
    },
    {
     "name": "stdout",
     "output_type": "stream",
     "text": [
      "Hola, ¿cómo estás? I’m back from my trip to Spain and Portugal, and I’m excited to share my experiences with you! I spent 10 days traveling through Madrid, Sevilla, Ronda, Granada, Lisbon, and Porto.\n"
     ]
    }
   ],
   "source": [
    "# Prueba de inferencia\n",
    "prompt = \"Hola, ¿cómo estás?\"\n",
    "inputs = tokenizer(prompt, return_tensors=\"pt\").to(\"cpu\")\n",
    "outputs = model.generate(**inputs, max_new_tokens=50)\n",
    "response = tokenizer.decode(outputs[0], skip_special_tokens=True)\n",
    "print(response)"
   ]
  },
  {
   "cell_type": "markdown",
   "id": "03c9cac6",
   "metadata": {},
   "source": [
    "**METRICAS De TIEMPO EN HW SALVA**\n",
    "5min levantado de modelo.\n",
    "42min inferencia 50 tokens"
   ]
  }
 ],
 "metadata": {
  "kernelspec": {
   "display_name": "mistral_env",
   "language": "python",
   "name": "python3"
  },
  "language_info": {
   "codemirror_mode": {
    "name": "ipython",
    "version": 3
   },
   "file_extension": ".py",
   "mimetype": "text/x-python",
   "name": "python",
   "nbconvert_exporter": "python",
   "pygments_lexer": "ipython3",
   "version": "3.12.3"
  }
 },
 "nbformat": 4,
 "nbformat_minor": 5
}
