{
 "cells": [
  {
   "cell_type": "code",
   "execution_count": null,
   "metadata": {
    "cell_id": "c5818eb5a914486b818fb9d05a5f949b",
    "deepnote_cell_type": "code",
    "execution_context_id": "c2e61181-37df-4a58-8c80-e5439fbf2f97",
    "execution_millis": 4513,
    "execution_start": 1744361137960,
    "source_hash": "44ce1377"
   },
   "outputs": [],
   "source": [
    "#!pip install genaibook==0.1.1"
   ]
  },
  {
   "cell_type": "markdown",
   "metadata": {},
   "source": [
    "**Cargamos el modelo y el tokenizador**"
   ]
  },
  {
   "cell_type": "code",
   "execution_count": 12,
   "metadata": {
    "cell_id": "126685aa4ac54cd8992252fbac35b17c",
    "deepnote_cell_type": "code",
    "deepnote_to_be_reexecuted": true,
    "execution_context_id": "f13d1d23-5455-4d8d-958f-41adff579af8",
    "execution_millis": 275,
    "execution_start": 1744274103339,
    "source_hash": "5cefbc31"
   },
   "outputs": [],
   "source": [
    "from transformers import AutoModelForCausalLM\n",
    "from transformers import AutoTokenizer\n",
    "from transformers import set_seed\n",
    "\n",
    "#Cargo el modelo y el tokenizador\n",
    "model = AutoModelForCausalLM.from_pretrained(\"Qwen/Qwen2-0.5B\")\n",
    "tokenizer = AutoTokenizer.from_pretrained(\"Qwen/Qwen2-0.5B\")\n",
    "\n",
    "# Use the id of the model you want to use\n",
    "# GPT-2 \"openai-community/gpt2\"\n",
    "# Qwen \"Qwen/Qwen2-0.5B\"\n",
    "# SmolLM \"HuggingFaceTB/SmolLM-135M\"\n",
    "\n",
    "set_seed(80) #seteamos la semilla al modelo\n",
    "\n",
    "# Configurar explícitamente el pad_token_id\n",
    "if tokenizer.pad_token_id is None:\n",
    "    tokenizer.pad_token_id = tokenizer.eos_token_id  # Usa eos_token_id como pad_token_id\n"
   ]
  },
  {
   "cell_type": "markdown",
   "metadata": {},
   "source": [
    "**Introducimos el prompt que queremos que use como guia y usamos el DECODER del modelo**"
   ]
  },
  {
   "cell_type": "code",
   "execution_count": 23,
   "metadata": {
    "cell_id": "083c8fde1dfa44b3b6579767e9f9b74d",
    "deepnote_cell_type": "code",
    "deepnote_to_be_reexecuted": true,
    "execution_context_id": "f13d1d23-5455-4d8d-958f-41adff579af8",
    "execution_millis": 4182,
    "execution_start": 1744274105933,
    "source_hash": "f4ebe967"
   },
   "outputs": [
    {
     "name": "stderr",
     "output_type": "stream",
     "text": [
      "The attention mask and the pad token id were not set. As a consequence, you may observe unexpected behavior. Please pass your input's `attention_mask` to obtain reliable results.\n",
      "Setting `pad_token_id` to `eos_token_id`:151643 for open-end generation.\n"
     ]
    },
    {
     "name": "stdout",
     "output_type": "stream",
     "text": [
      "tensor([[  641,   264,  3283,   315, 63143,    11,   279,  7785,   477,  8644]])\n",
      "In a city of bankers, the smartest mouse can get 2 jobs more quickly by jumping to one company a week than any other mouse. When one or two of the city's smartest  four-degrees degree mice became smarter, the mean time interval between jobs took at one end dropped\n"
     ]
    }
   ],
   "source": [
    "#Meto el prompt\n",
    "prompt = \"In a city of bankers, the smartest mouse\"\n",
    "\n",
    "#Tokenizo el prompt y lo convierto en un tensor de pytorch\n",
    "input_ids = tokenizer(prompt, return_tensors=\"pt\").input_ids\n",
    "print(input_ids)\n",
    "\n",
    "#Parametrizo la generación de texto\n",
    "sampling_output = model.generate(\n",
    "    input_ids,\n",
    "    do_sample=True,\n",
    "    temperature=2.0,\n",
    "    max_new_tokens=50,\n",
    "    top_k=50,\n",
    ")\n",
    "\n",
    "print(tokenizer.decode(sampling_output[0]))"
   ]
  }
 ],
 "metadata": {
  "deepnote_notebook_id": "9cf09acbe457448eb7e715ccf1e4d79a",
  "kernelspec": {
   "display_name": "AIGen",
   "language": "python",
   "name": "python3"
  },
  "language_info": {
   "codemirror_mode": {
    "name": "ipython",
    "version": 3
   },
   "file_extension": ".py",
   "mimetype": "text/x-python",
   "name": "python",
   "nbconvert_exporter": "python",
   "pygments_lexer": "ipython3",
   "version": "3.12.11"
  }
 },
 "nbformat": 4,
 "nbformat_minor": 0
}
